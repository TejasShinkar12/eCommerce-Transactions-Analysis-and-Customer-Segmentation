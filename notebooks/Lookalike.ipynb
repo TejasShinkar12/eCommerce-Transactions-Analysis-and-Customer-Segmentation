{
 "cells": [
  {
   "cell_type": "markdown",
   "metadata": {},
   "source": [
    "# Lookalike Model\n",
    "This notebook outlines the process of building a lookalike model that takes user's information as input and recommends 3 similar customers based on their profile and transaction history. The model will use both customer and product information, and assign a similarity score to each recommended customer."
   ]
  },
  {
   "cell_type": "markdown",
   "metadata": {},
   "source": [
    "## Setup and Intialization"
   ]
  },
  {
   "cell_type": "markdown",
   "metadata": {},
   "source": [
    "### Import Necessary Libraries"
   ]
  },
  {
   "cell_type": "code",
   "execution_count": 1,
   "metadata": {},
   "outputs": [],
   "source": [
    "import warnings\n",
    "warnings.filterwarnings('ignore')\n",
    "\n",
    "import pandas as pd\n",
    "from sklearn.preprocessing import StandardScaler\n",
    "from sklearn.metrics.pairwise import cosine_similarity"
   ]
  },
  {
   "cell_type": "markdown",
   "metadata": {},
   "source": [
    "### Loading the dataset"
   ]
  },
  {
   "cell_type": "code",
   "execution_count": 2,
   "metadata": {},
   "outputs": [],
   "source": [
    "customers = pd.read_csv('../datasets/Customers.csv')\n",
    "products = pd.read_csv('../datasets/Products.csv')\n",
    "transactions = pd.read_csv('../datasets/Transactions.csv')"
   ]
  },
  {
   "cell_type": "code",
   "execution_count": 3,
   "metadata": {},
   "outputs": [
    {
     "name": "stdout",
     "output_type": "stream",
     "text": [
      "<class 'pandas.core.frame.DataFrame'>\n",
      "RangeIndex: 200 entries, 0 to 199\n",
      "Data columns (total 4 columns):\n",
      " #   Column        Non-Null Count  Dtype \n",
      "---  ------        --------------  ----- \n",
      " 0   CustomerID    200 non-null    object\n",
      " 1   CustomerName  200 non-null    object\n",
      " 2   Region        200 non-null    object\n",
      " 3   SignupDate    200 non-null    object\n",
      "dtypes: object(4)\n",
      "memory usage: 6.4+ KB\n"
     ]
    }
   ],
   "source": [
    "customers.info()"
   ]
  },
  {
   "cell_type": "code",
   "execution_count": 4,
   "metadata": {},
   "outputs": [
    {
     "name": "stdout",
     "output_type": "stream",
     "text": [
      "<class 'pandas.core.frame.DataFrame'>\n",
      "RangeIndex: 100 entries, 0 to 99\n",
      "Data columns (total 4 columns):\n",
      " #   Column       Non-Null Count  Dtype  \n",
      "---  ------       --------------  -----  \n",
      " 0   ProductID    100 non-null    object \n",
      " 1   ProductName  100 non-null    object \n",
      " 2   Category     100 non-null    object \n",
      " 3   Price        100 non-null    float64\n",
      "dtypes: float64(1), object(3)\n",
      "memory usage: 3.3+ KB\n"
     ]
    }
   ],
   "source": [
    "products.info()"
   ]
  },
  {
   "cell_type": "code",
   "execution_count": 5,
   "metadata": {},
   "outputs": [
    {
     "name": "stdout",
     "output_type": "stream",
     "text": [
      "<class 'pandas.core.frame.DataFrame'>\n",
      "RangeIndex: 1000 entries, 0 to 999\n",
      "Data columns (total 7 columns):\n",
      " #   Column           Non-Null Count  Dtype  \n",
      "---  ------           --------------  -----  \n",
      " 0   TransactionID    1000 non-null   object \n",
      " 1   CustomerID       1000 non-null   object \n",
      " 2   ProductID        1000 non-null   object \n",
      " 3   TransactionDate  1000 non-null   object \n",
      " 4   Quantity         1000 non-null   int64  \n",
      " 5   TotalValue       1000 non-null   float64\n",
      " 6   Price            1000 non-null   float64\n",
      "dtypes: float64(2), int64(1), object(4)\n",
      "memory usage: 54.8+ KB\n"
     ]
    }
   ],
   "source": [
    "transactions.info()"
   ]
  },
  {
   "cell_type": "markdown",
   "metadata": {},
   "source": [
    "## Data Preparation and Feature Engineering"
   ]
  },
  {
   "cell_type": "markdown",
   "metadata": {},
   "source": [
    "Clean and prepare the data for analysis by standardizing date formats and enriching transactions."
   ]
  },
  {
   "cell_type": "code",
   "execution_count": 6,
   "metadata": {},
   "outputs": [],
   "source": [
    "# Convert date columns to datetime\n",
    "customers['SignupDate'] = pd.to_datetime(customers['SignupDate'])\n",
    "transactions['TransactionDate'] = pd.to_datetime(transactions['TransactionDate'])\n",
    "\n",
    "# Merge transactions with products to get product categories\n",
    "transactions = transactions.merge(products[['ProductID', 'Category']], on='ProductID', how='left')\n",
    "\n",
    "# Determine the last transaction date as a reference point\n",
    "last_transaction_date = transactions['TransactionDate'].max()"
   ]
  },
  {
   "cell_type": "markdown",
   "metadata": {},
   "source": [
    "### Customer Profile Features"
   ]
  },
  {
   "cell_type": "markdown",
   "metadata": {},
   "source": [
    "Create a feature representing customer tenure."
   ]
  },
  {
   "cell_type": "code",
   "execution_count": 7,
   "metadata": {},
   "outputs": [],
   "source": [
    "# Calculate days since the earliest signup date as a numerical feature\n",
    "customers['DaysSinceEarliestSignup'] = (customers['SignupDate'] - customers['SignupDate'].min()).dt.days"
   ]
  },
  {
   "cell_type": "markdown",
   "metadata": {},
   "source": [
    "Stored as `DaysSinceEarliestSignup`, this numerical feature reflects how long a customer has been active, which may influence their behavior."
   ]
  },
  {
   "cell_type": "markdown",
   "metadata": {},
   "source": [
    "### Transaction-Based Features"
   ]
  },
  {
   "cell_type": "markdown",
   "metadata": {},
   "source": [
    "Generate features summarizing customer transaction behavior."
   ]
  },
  {
   "cell_type": "code",
   "execution_count": 8,
   "metadata": {},
   "outputs": [],
   "source": [
    "# Aggregate transaction data per customer\n",
    "customer_agg = transactions.groupby('CustomerID').agg({\n",
    "    'TransactionID': 'count',            # Frequency: number of transactions\n",
    "    'TotalValue': 'sum',                # Monetary: total spend\n",
    "    'ProductID': 'nunique',            # Unique products purchased\n",
    "    'Category': 'nunique',            # Unique categories purchased\n",
    "    'TransactionDate': 'max'          # Date of the last transaction\n",
    "}).rename(columns={\n",
    "    'TransactionID': 'Frequency',\n",
    "    'TotalValue': 'Monetary',\n",
    "    'ProductID': 'UniqueProducts',\n",
    "    'Category': 'UniqueCategories',\n",
    "    'TransactionDate': 'LastTransactionDate'\n",
    "})"
   ]
  },
  {
   "cell_type": "code",
   "execution_count": 9,
   "metadata": {},
   "outputs": [],
   "source": [
    "# Calculate Recency: days since the last transaction\n",
    "customer_agg['Recency'] = (last_transaction_date - customer_agg['LastTransactionDate']).dt.days\n",
    "\n",
    "# Calculate Average Transaction Value\n",
    "customer_agg['AvgTransactionValue'] = customer_agg['Monetary'] / customer_agg['Frequency']"
   ]
  },
  {
   "cell_type": "markdown",
   "metadata": {},
   "source": [
    "- `Frequency`: Counts transactions per customer.\n",
    "- `Monetary`: Sums total spending.\n",
    "- `UniqueProducts`: Counts distinct products purchased.\n",
    "- `UniqueCategories`: Counts distinct categories purchased.\n",
    "- `LastTransactionDate`: Identifies the most recent transaction.\n",
    "- `Recency`: Calculates days since the last transaction (lower values mean more recent activity).\n",
    "- `AvgTransactionValue`: Computes average spend per transaction (Monetary / Frequency)."
   ]
  },
  {
   "cell_type": "code",
   "execution_count": 10,
   "metadata": {},
   "outputs": [],
   "source": [
    "# Calculate spending per category\n",
    "category_spend = transactions.groupby(['CustomerID', 'Category'])['TotalValue'].sum().reset_index()\n",
    "category_spend_pivot = category_spend.pivot(index='CustomerID', columns='Category', values='TotalValue').fillna(0)\n",
    "\n",
    "# Compute proportions of total spend per category\n",
    "for col in category_spend_pivot.columns:\n",
    "    category_spend_pivot[col + '_prop'] = category_spend_pivot[col] / category_spend_pivot.sum(axis=1)"
   ]
  },
  {
   "cell_type": "markdown",
   "metadata": {},
   "source": [
    "### Create Feature Set"
   ]
  },
  {
   "cell_type": "markdown",
   "metadata": {},
   "source": [
    "Integrate all features into a single DataFrame and prepare it for modeling."
   ]
  },
  {
   "cell_type": "code",
   "execution_count": 11,
   "metadata": {},
   "outputs": [],
   "source": [
    "# Join transaction features with category proportions\n",
    "customer_features = customer_agg.join(category_spend_pivot.filter(like='_prop'), how='left')"
   ]
  },
  {
   "cell_type": "code",
   "execution_count": 12,
   "metadata": {},
   "outputs": [],
   "source": [
    "# Merge with customer profile features\n",
    "customer_features = customers[['CustomerID', 'Region', 'DaysSinceEarliestSignup']].merge(\n",
    "    customer_features.reset_index(), on='CustomerID', how='left'\n",
    ")"
   ]
  },
  {
   "cell_type": "code",
   "execution_count": 13,
   "metadata": {},
   "outputs": [],
   "source": [
    "# One-hot encode the Region column\n",
    "customer_features = pd.get_dummies(customer_features, columns=['Region'], prefix='Region')\n",
    "\n",
    "# Handle any missing values (e.g., customers with no transactions)\n",
    "customer_features.fillna(0, inplace=True)"
   ]
  },
  {
   "cell_type": "code",
   "execution_count": 14,
   "metadata": {},
   "outputs": [
    {
     "data": {
      "text/html": [
       "<div>\n",
       "<style scoped>\n",
       "    .dataframe tbody tr th:only-of-type {\n",
       "        vertical-align: middle;\n",
       "    }\n",
       "\n",
       "    .dataframe tbody tr th {\n",
       "        vertical-align: top;\n",
       "    }\n",
       "\n",
       "    .dataframe thead th {\n",
       "        text-align: right;\n",
       "    }\n",
       "</style>\n",
       "<table border=\"1\" class=\"dataframe\">\n",
       "  <thead>\n",
       "    <tr style=\"text-align: right;\">\n",
       "      <th></th>\n",
       "      <th>CustomerID</th>\n",
       "      <th>DaysSinceEarliestSignup</th>\n",
       "      <th>Frequency</th>\n",
       "      <th>Monetary</th>\n",
       "      <th>UniqueProducts</th>\n",
       "      <th>UniqueCategories</th>\n",
       "      <th>LastTransactionDate</th>\n",
       "      <th>Recency</th>\n",
       "      <th>AvgTransactionValue</th>\n",
       "      <th>Books_prop</th>\n",
       "      <th>Clothing_prop</th>\n",
       "      <th>Electronics_prop</th>\n",
       "      <th>Home Decor_prop</th>\n",
       "      <th>Region_Asia</th>\n",
       "      <th>Region_Europe</th>\n",
       "      <th>Region_North America</th>\n",
       "      <th>Region_South America</th>\n",
       "    </tr>\n",
       "  </thead>\n",
       "  <tbody>\n",
       "    <tr>\n",
       "      <th>0</th>\n",
       "      <td>C0001</td>\n",
       "      <td>169</td>\n",
       "      <td>5.0</td>\n",
       "      <td>3354.52</td>\n",
       "      <td>5.0</td>\n",
       "      <td>3.0</td>\n",
       "      <td>2024-11-02 17:04:16</td>\n",
       "      <td>55.0</td>\n",
       "      <td>670.904</td>\n",
       "      <td>0.034163</td>\n",
       "      <td>0.000000</td>\n",
       "      <td>0.842824</td>\n",
       "      <td>0.122972</td>\n",
       "      <td>False</td>\n",
       "      <td>False</td>\n",
       "      <td>False</td>\n",
       "      <td>True</td>\n",
       "    </tr>\n",
       "    <tr>\n",
       "      <th>1</th>\n",
       "      <td>C0002</td>\n",
       "      <td>22</td>\n",
       "      <td>4.0</td>\n",
       "      <td>1862.74</td>\n",
       "      <td>4.0</td>\n",
       "      <td>2.0</td>\n",
       "      <td>2024-12-03 01:41:41</td>\n",
       "      <td>25.0</td>\n",
       "      <td>465.685</td>\n",
       "      <td>0.000000</td>\n",
       "      <td>0.550512</td>\n",
       "      <td>0.000000</td>\n",
       "      <td>0.449356</td>\n",
       "      <td>True</td>\n",
       "      <td>False</td>\n",
       "      <td>False</td>\n",
       "      <td>False</td>\n",
       "    </tr>\n",
       "    <tr>\n",
       "      <th>2</th>\n",
       "      <td>C0003</td>\n",
       "      <td>775</td>\n",
       "      <td>4.0</td>\n",
       "      <td>2725.38</td>\n",
       "      <td>4.0</td>\n",
       "      <td>3.0</td>\n",
       "      <td>2024-08-24 18:54:04</td>\n",
       "      <td>125.0</td>\n",
       "      <td>681.345</td>\n",
       "      <td>0.000000</td>\n",
       "      <td>0.044896</td>\n",
       "      <td>0.508251</td>\n",
       "      <td>0.446753</td>\n",
       "      <td>False</td>\n",
       "      <td>False</td>\n",
       "      <td>False</td>\n",
       "      <td>True</td>\n",
       "    </tr>\n",
       "    <tr>\n",
       "      <th>3</th>\n",
       "      <td>C0004</td>\n",
       "      <td>260</td>\n",
       "      <td>8.0</td>\n",
       "      <td>5354.88</td>\n",
       "      <td>8.0</td>\n",
       "      <td>3.0</td>\n",
       "      <td>2024-12-23 14:13:52</td>\n",
       "      <td>4.0</td>\n",
       "      <td>669.360</td>\n",
       "      <td>0.352665</td>\n",
       "      <td>0.000000</td>\n",
       "      <td>0.253162</td>\n",
       "      <td>0.394112</td>\n",
       "      <td>False</td>\n",
       "      <td>False</td>\n",
       "      <td>False</td>\n",
       "      <td>True</td>\n",
       "    </tr>\n",
       "    <tr>\n",
       "      <th>4</th>\n",
       "      <td>C0005</td>\n",
       "      <td>205</td>\n",
       "      <td>3.0</td>\n",
       "      <td>2034.24</td>\n",
       "      <td>3.0</td>\n",
       "      <td>2.0</td>\n",
       "      <td>2024-11-04 00:30:22</td>\n",
       "      <td>54.0</td>\n",
       "      <td>678.080</td>\n",
       "      <td>0.000000</td>\n",
       "      <td>0.000000</td>\n",
       "      <td>0.580256</td>\n",
       "      <td>0.419624</td>\n",
       "      <td>True</td>\n",
       "      <td>False</td>\n",
       "      <td>False</td>\n",
       "      <td>False</td>\n",
       "    </tr>\n",
       "  </tbody>\n",
       "</table>\n",
       "</div>"
      ],
      "text/plain": [
       "  CustomerID  DaysSinceEarliestSignup  Frequency  Monetary  UniqueProducts  \\\n",
       "0      C0001                      169        5.0   3354.52             5.0   \n",
       "1      C0002                       22        4.0   1862.74             4.0   \n",
       "2      C0003                      775        4.0   2725.38             4.0   \n",
       "3      C0004                      260        8.0   5354.88             8.0   \n",
       "4      C0005                      205        3.0   2034.24             3.0   \n",
       "\n",
       "   UniqueCategories  LastTransactionDate  Recency  AvgTransactionValue  \\\n",
       "0               3.0  2024-11-02 17:04:16     55.0              670.904   \n",
       "1               2.0  2024-12-03 01:41:41     25.0              465.685   \n",
       "2               3.0  2024-08-24 18:54:04    125.0              681.345   \n",
       "3               3.0  2024-12-23 14:13:52      4.0              669.360   \n",
       "4               2.0  2024-11-04 00:30:22     54.0              678.080   \n",
       "\n",
       "   Books_prop  Clothing_prop  Electronics_prop  Home Decor_prop  Region_Asia  \\\n",
       "0    0.034163       0.000000          0.842824         0.122972        False   \n",
       "1    0.000000       0.550512          0.000000         0.449356         True   \n",
       "2    0.000000       0.044896          0.508251         0.446753        False   \n",
       "3    0.352665       0.000000          0.253162         0.394112        False   \n",
       "4    0.000000       0.000000          0.580256         0.419624         True   \n",
       "\n",
       "   Region_Europe  Region_North America  Region_South America  \n",
       "0          False                 False                  True  \n",
       "1          False                 False                 False  \n",
       "2          False                 False                  True  \n",
       "3          False                 False                  True  \n",
       "4          False                 False                 False  "
      ]
     },
     "execution_count": 14,
     "metadata": {},
     "output_type": "execute_result"
    }
   ],
   "source": [
    "customer_features.head()"
   ]
  },
  {
   "cell_type": "markdown",
   "metadata": {},
   "source": [
    "## Feature Scaling"
   ]
  },
  {
   "cell_type": "markdown",
   "metadata": {},
   "source": [
    "### Define Feature Vector"
   ]
  },
  {
   "cell_type": "code",
   "execution_count": 15,
   "metadata": {},
   "outputs": [],
   "source": [
    "# Select relevant features for similarity calculation\n",
    "feature_columns = (\n",
    "    ['DaysSinceEarliestSignup'] +\n",
    "    [col for col in customer_features.columns if col.startswith('Region_')] +\n",
    "    ['Recency', 'Frequency', 'Monetary', 'AvgTransactionValue', 'UniqueProducts', 'UniqueCategories'] +\n",
    "    [col for col in customer_features.columns if col.endswith('_prop')]\n",
    ")\n",
    "\n",
    "# Set CustomerID as index for easier lookup\n",
    "customer_features.set_index('CustomerID', inplace=True)"
   ]
  },
  {
   "cell_type": "markdown",
   "metadata": {},
   "source": [
    "### Standardize Features"
   ]
  },
  {
   "cell_type": "markdown",
   "metadata": {},
   "source": [
    "To provide fair comparison in similarity computations, I normalize characteristics. I converts features to a mean of 0 and standard deviation of 1 using `StandardScaler`. This keeps the similarity metric from being dominated by qualities with greater scales (like `monetary`)."
   ]
  },
  {
   "cell_type": "code",
   "execution_count": 16,
   "metadata": {},
   "outputs": [],
   "source": [
    "scaler = StandardScaler()\n",
    "features_scaled = scaler.fit_transform(customer_features[feature_columns])"
   ]
  },
  {
   "cell_type": "markdown",
   "metadata": {},
   "source": [
    "## Recommendation Model"
   ]
  },
  {
   "cell_type": "markdown",
   "metadata": {},
   "source": [
    "Recommendation systems are algorithms that estimate what users will like or find useful and then recommend relevant items to them, such as products, movies, or articles.  These systems improve personalization by evaluating user preferences, actions, and traits.  There are two major types of recommendation systems: `Collaborative filtering` and `Content-based filtering`."
   ]
  },
  {
   "cell_type": "markdown",
   "metadata": {},
   "source": [
    "### Collaborative filtering"
   ]
  },
  {
   "cell_type": "markdown",
   "metadata": {},
   "source": [
    "- **Collaborative Filtering** detects patterns based on user-item interactions such as ratings, purchases, and clicks. It assumes that users who have previously shared similar tastes will do so again. \n",
    "- It can be either `user-based` (recommends items liked by people similar to the target user) or `item-based` (suggests items similar to previously liked products). \n",
    "- Collaborative filtering captures complicated patterns without comprehensive item information and performs well with large amounts of interaction data. However, it struggles with \"cold start\" problems for new users or things with no history and requires extensive interaction data."
   ]
  },
  {
   "cell_type": "markdown",
   "metadata": {},
   "source": [
    "### Content-Based filtering"
   ]
  },
  {
   "cell_type": "markdown",
   "metadata": {},
   "source": [
    "- This method recommends items by matching user profiles to item characteristics, rather than user interactions. \n",
    "- Content-Based filtering works well for new users or items with known qualities, and does not require considerable interaction data.\n",
    "- However, the quality of feature data limits the ability to completely capture complex preferences."
   ]
  },
  {
   "cell_type": "markdown",
   "metadata": {},
   "source": [
    "We chose content-based filtering for our approach because it takes advantage of easily available comprehensive customer variables such as tenure, geography, spending history, and category preferences. It succeeds in instances with little interaction data, such as those involving new clients, by relying on profile similarities rather than prior interactions. Furthermore, it provides interpretability, explaining why some customers are considered similar, and is consistent with our goal of identifying lookalikes for a certain group  based on specified criteria. This makes it a realistic and effective option for our use case."
   ]
  },
  {
   "cell_type": "markdown",
   "metadata": {},
   "source": [
    "#### Compute Similarity Matrix"
   ]
  },
  {
   "cell_type": "code",
   "execution_count": 17,
   "metadata": {},
   "outputs": [],
   "source": [
    "similarity_matrix = cosine_similarity(features_scaled)"
   ]
  },
  {
   "cell_type": "markdown",
   "metadata": {},
   "source": [
    "- `cosine_similarity` computes a matrix where each element is the cosine similarity between two customers’ feature vectors.\n",
    "- Values range from `-1` to `1`, with higher values indicating greater similarity."
   ]
  },
  {
   "cell_type": "markdown",
   "metadata": {},
   "source": [
    "#### Function to Get Top Similar Customers"
   ]
  },
  {
   "cell_type": "markdown",
   "metadata": {},
   "source": [
    "This functions takes a DataFrame, similarity matrix, customer ID, and number of similar customers (n) to be fetched. It finds the customer’s index, extracts their similarity scores, sorts them descending, and excludes the customer themselves (starts at index 1)."
   ]
  },
  {
   "cell_type": "code",
   "execution_count": 18,
   "metadata": {},
   "outputs": [],
   "source": [
    "def get_top_similar(customers_df, sim_matrix, customer_id, n=3):\n",
    "    \"\"\"Returns the top N similar customers for a given customer ID.\"\"\"\n",
    "    idx = customers_df.index.get_loc(customer_id)\n",
    "    sim_scores = sim_matrix[idx]\n",
    "    # Sort indices by similarity (descending), exclude self (idx) by starting at 1\n",
    "    top_indices = sim_scores.argsort()[::-1][1:n+1]\n",
    "    top_customers = customers_df.index[top_indices].tolist()\n",
    "    top_scores = sim_scores[top_indices].tolist()\n",
    "    return list(zip(top_customers, top_scores))"
   ]
  },
  {
   "cell_type": "markdown",
   "metadata": {},
   "source": [
    "## Get Recommendations"
   ]
  },
  {
   "cell_type": "code",
   "execution_count": 19,
   "metadata": {},
   "outputs": [],
   "source": [
    "# Generate Recommendations for C0001 to C0020\n",
    "target_customers = [f'C{i:04d}' for i in range(1, 21)]\n",
    "lookalike_results = []\n",
    "\n",
    "for target_customer in target_customers:\n",
    "    if target_customer in customer_features.index:\n",
    "        top_similar = get_top_similar(customer_features, similarity_matrix, target_customer, n=3)\n",
    "        lookalike_results.append((target_customer, top_similar))\n",
    "    else:\n",
    "        # Handle case where a target customer has no data (unlikely per problem context)\n",
    "        lookalike_results.append((target_customer, []))"
   ]
  },
  {
   "cell_type": "markdown",
   "metadata": {},
   "source": [
    "We can now save the dataset that includes the lookalikes and similarity score."
   ]
  },
  {
   "cell_type": "code",
   "execution_count": 20,
   "metadata": {},
   "outputs": [],
   "source": [
    "lookalike_df = pd.DataFrame(lookalike_results, columns=['target_customer', 'similar_customers'])\n",
    "\n",
    "lookalike_df.to_csv('../Reports/Lookalike.csv', index=False)"
   ]
  }
 ],
 "metadata": {
  "kernelspec": {
   "display_name": "base",
   "language": "python",
   "name": "python3"
  },
  "language_info": {
   "codemirror_mode": {
    "name": "ipython",
    "version": 3
   },
   "file_extension": ".py",
   "mimetype": "text/x-python",
   "name": "python",
   "nbconvert_exporter": "python",
   "pygments_lexer": "ipython3",
   "version": "3.11.5"
  }
 },
 "nbformat": 4,
 "nbformat_minor": 2
}
